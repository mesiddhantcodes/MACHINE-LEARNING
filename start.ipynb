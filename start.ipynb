{
  "cells": [
    {
      "cell_type": "markdown",
      "metadata": {
        "id": "view-in-github",
        "colab_type": "text"
      },
      "source": [
        "<a href=\"https://colab.research.google.com/github/mesiddhantcodes/MACHINE-LEARNING/blob/main/start.ipynb\" target=\"_parent\"><img src=\"https://colab.research.google.com/assets/colab-badge.svg\" alt=\"Open In Colab\"/></a>"
      ]
    },
    {
      "cell_type": "code",
      "source": [
        "import pandas as pd\n"
      ],
      "metadata": {
        "id": "5S1TTFnkjpYS"
      },
      "id": "5S1TTFnkjpYS",
      "execution_count": null,
      "outputs": []
    },
    {
      "cell_type": "code",
      "source": [
        "type(True)"
      ],
      "metadata": {
        "colab": {
          "base_uri": "https://localhost:8080/"
        },
        "id": "3hXnnPeFjtM-",
        "outputId": "1c05a13d-a984-414d-d40a-0e8946fe14d8"
      },
      "id": "3hXnnPeFjtM-",
      "execution_count": null,
      "outputs": [
        {
          "output_type": "execute_result",
          "data": {
            "text/plain": [
              "bool"
            ]
          },
          "metadata": {},
          "execution_count": 2
        }
      ]
    },
    {
      "cell_type": "code",
      "source": [
        "my=\"mesiddhantcodes hh\"\n",
        "print(my.endswith('m'))\n",
        "print(my.startswith('m'))"
      ],
      "metadata": {
        "colab": {
          "base_uri": "https://localhost:8080/"
        },
        "id": "IQrVSU_ZoiUc",
        "outputId": "b364c487-f0cd-4851-c113-815ccac113cc"
      },
      "id": "IQrVSU_ZoiUc",
      "execution_count": null,
      "outputs": [
        {
          "output_type": "stream",
          "name": "stdout",
          "text": [
            "False\n",
            "True\n"
          ]
        }
      ]
    },
    {
      "cell_type": "code",
      "source": [
        "li=['mathematica',5,5]\n"
      ],
      "metadata": {
        "id": "034DHg5uo9E0"
      },
      "id": "034DHg5uo9E0",
      "execution_count": null,
      "outputs": []
    },
    {
      "cell_type": "code",
      "source": [
        "print(li)"
      ],
      "metadata": {
        "colab": {
          "base_uri": "https://localhost:8080/"
        },
        "id": "Svf334ZJrBmC",
        "outputId": "6ceb0df7-0e0d-41ea-a418-39371bf6b1a3"
      },
      "id": "Svf334ZJrBmC",
      "execution_count": null,
      "outputs": [
        {
          "output_type": "stream",
          "name": "stdout",
          "text": [
            "['mathematica', 5, 5]\n"
          ]
        }
      ]
    },
    {
      "cell_type": "code",
      "source": [
        "li.append(\"sdfsd\")\n",
        "print(li)\n"
      ],
      "metadata": {
        "colab": {
          "base_uri": "https://localhost:8080/"
        },
        "id": "YVPs52-8rEo-",
        "outputId": "2556c2e9-57e2-4278-c523-ad0f2c75a1e0"
      },
      "id": "YVPs52-8rEo-",
      "execution_count": null,
      "outputs": [
        {
          "output_type": "stream",
          "name": "stdout",
          "text": [
            "['high', 'mathematica', 5, 5, 'sdfsd']\n"
          ]
        }
      ]
    },
    {
      "cell_type": "code",
      "source": [
        "li.insert(0,'high')\n",
        "print (li)\n"
      ],
      "metadata": {
        "colab": {
          "base_uri": "https://localhost:8080/"
        },
        "id": "sKos4bvOrJHC",
        "outputId": "a4a14e8b-f1b1-4dec-a75e-e2785b0cf58a"
      },
      "id": "sKos4bvOrJHC",
      "execution_count": null,
      "outputs": [
        {
          "output_type": "stream",
          "name": "stdout",
          "text": [
            "['high', 'mathematica', 5, 5]\n"
          ]
        }
      ]
    },
    {
      "cell_type": "code",
      "source": [
        "li[1:]\n"
      ],
      "metadata": {
        "id": "PT8n_NZqreyf",
        "colab": {
          "base_uri": "https://localhost:8080/"
        },
        "outputId": "06ed9ee9-65a7-4f7d-e658-851ed93aa6bd"
      },
      "id": "PT8n_NZqreyf",
      "execution_count": null,
      "outputs": [
        {
          "output_type": "execute_result",
          "data": {
            "text/plain": [
              "['mathematica', 5, 5, 'sdfsd']"
            ]
          },
          "metadata": {},
          "execution_count": 6
        }
      ]
    },
    {
      "cell_type": "code",
      "source": [
        "li[1:4]"
      ],
      "metadata": {
        "colab": {
          "base_uri": "https://localhost:8080/"
        },
        "id": "hJvj-np8si79",
        "outputId": "bd93ffd3-60d6-4e42-d17e-295be64b3e28"
      },
      "id": "hJvj-np8si79",
      "execution_count": null,
      "outputs": [
        {
          "output_type": "execute_result",
          "data": {
            "text/plain": [
              "['mathematica', 5, 5]"
            ]
          },
          "metadata": {},
          "execution_count": 7
        }
      ]
    },
    {
      "cell_type": "code",
      "source": [
        "li.append(['my life','ds'])"
      ],
      "metadata": {
        "id": "LTZf_ZV5ueed"
      },
      "id": "LTZf_ZV5ueed",
      "execution_count": null,
      "outputs": []
    },
    {
      "cell_type": "code",
      "source": [
        "print(li)"
      ],
      "metadata": {
        "colab": {
          "base_uri": "https://localhost:8080/"
        },
        "id": "DTexFbRNvjWR",
        "outputId": "de8ddb5f-482a-45a2-e4dd-94cc3494f73b"
      },
      "id": "DTexFbRNvjWR",
      "execution_count": null,
      "outputs": [
        {
          "output_type": "stream",
          "name": "stdout",
          "text": [
            "['high', 'mathematica', 5, 5, 'sdfsd', ['my life', 'ds']]\n"
          ]
        }
      ]
    },
    {
      "cell_type": "code",
      "source": [
        "li.extend([4,3,3])\n",
        "#by the use of extend we add a muliple value\n"
      ],
      "metadata": {
        "id": "cDj8FCmevmmw"
      },
      "id": "cDj8FCmevmmw",
      "execution_count": null,
      "outputs": []
    },
    {
      "cell_type": "code",
      "source": [
        "print(li)"
      ],
      "metadata": {
        "colab": {
          "base_uri": "https://localhost:8080/"
        },
        "id": "My3mnWKXwpZB",
        "outputId": "592cea0b-6b6b-4df9-ba72-dad6b1a65784"
      },
      "id": "My3mnWKXwpZB",
      "execution_count": null,
      "outputs": [
        {
          "output_type": "stream",
          "name": "stdout",
          "text": [
            "['high', 'mathematica', 5, 5, 'sdfsd', ['my life', 'ds'], 4, 3, 3]\n"
          ]
        }
      ]
    },
    {
      "cell_type": "code",
      "source": [
        "#sum(list name)\n",
        "#pop(index) pick the specific data\n",
        "#if pop is passed without the argument then last number is passed "
      ],
      "metadata": {
        "id": "_mDNS0Skwr3E"
      },
      "id": "_mDNS0Skwr3E",
      "execution_count": null,
      "outputs": []
    },
    {
      "cell_type": "code",
      "source": [
        "li.count(5)"
      ],
      "metadata": {
        "id": "bna9TbOU02vO",
        "outputId": "38328371-e72c-4cab-e3ca-2bfd65bd1018",
        "colab": {
          "base_uri": "https://localhost:8080/"
        }
      },
      "id": "bna9TbOU02vO",
      "execution_count": null,
      "outputs": [
        {
          "output_type": "execute_result",
          "data": {
            "text/plain": [
              "2"
            ]
          },
          "metadata": {},
          "execution_count": 12
        }
      ]
    },
    {
      "cell_type": "code",
      "source": [
        "sey=('new','old')"
      ],
      "metadata": {
        "id": "oUtxj-MA_s_k"
      },
      "id": "oUtxj-MA_s_k",
      "execution_count": null,
      "outputs": []
    },
    {
      "cell_type": "code",
      "source": [
        "print(sey)"
      ],
      "metadata": {
        "colab": {
          "base_uri": "https://localhost:8080/"
        },
        "id": "GGAilO7a_5we",
        "outputId": "4678897d-189f-4d09-e6c5-30f8d5bb3c56"
      },
      "id": "GGAilO7a_5we",
      "execution_count": null,
      "outputs": [
        {
          "output_type": "stream",
          "name": "stdout",
          "text": [
            "('new', 'old')\n"
          ]
        }
      ]
    },
    {
      "cell_type": "code",
      "source": [
        "sey={'nfsdj','sdfsd'}"
      ],
      "metadata": {
        "id": "pHm66QU0__HQ"
      },
      "id": "pHm66QU0__HQ",
      "execution_count": null,
      "outputs": []
    },
    {
      "cell_type": "code",
      "source": [
        "print(sey)"
      ],
      "metadata": {
        "colab": {
          "base_uri": "https://localhost:8080/"
        },
        "id": "CX_8SZUkAGhm",
        "outputId": "b9e77d07-2b23-401f-f7a5-abc4ffabb0f1"
      },
      "id": "CX_8SZUkAGhm",
      "execution_count": null,
      "outputs": [
        {
          "output_type": "stream",
          "name": "stdout",
          "text": [
            "{'nfsdj', 'sdfsd'}\n"
          ]
        }
      ]
    },
    {
      "cell_type": "code",
      "source": [
        "sey.add('dsf')"
      ],
      "metadata": {
        "id": "qxi4EdzuAVCI"
      },
      "id": "qxi4EdzuAVCI",
      "execution_count": null,
      "outputs": []
    },
    {
      "cell_type": "code",
      "source": [
        "print(sey)"
      ],
      "metadata": {
        "colab": {
          "base_uri": "https://localhost:8080/"
        },
        "id": "UTGq9PjrAYFv",
        "outputId": "262eb69e-e677-4e80-d431-db4b23f7e2b1"
      },
      "id": "UTGq9PjrAYFv",
      "execution_count": null,
      "outputs": [
        {
          "output_type": "stream",
          "name": "stdout",
          "text": [
            "{'nfsdj', 'sdfsd', 'dsf'}\n"
          ]
        }
      ]
    },
    {
      "cell_type": "code",
      "source": [
        "type(sey)"
      ],
      "metadata": {
        "colab": {
          "base_uri": "https://localhost:8080/"
        },
        "id": "FoM5FzMcAZYt",
        "outputId": "882853c6-4cff-463a-a004-220fc6bf8850"
      },
      "id": "FoM5FzMcAZYt",
      "execution_count": null,
      "outputs": [
        {
          "output_type": "execute_result",
          "data": {
            "text/plain": [
              "set"
            ]
          },
          "metadata": {},
          "execution_count": 14
        }
      ]
    },
    {
      "cell_type": "code",
      "source": [
        "sey.clear"
      ],
      "metadata": {
        "colab": {
          "base_uri": "https://localhost:8080/"
        },
        "id": "_pQmmpqKAgMd",
        "outputId": "d395b8fe-c0ae-42f9-cea2-525e69573120"
      },
      "id": "_pQmmpqKAgMd",
      "execution_count": null,
      "outputs": [
        {
          "output_type": "execute_result",
          "data": {
            "text/plain": [
              "<function set.clear>"
            ]
          },
          "metadata": {},
          "execution_count": 15
        }
      ]
    },
    {
      "cell_type": "code",
      "source": [
        "sey1={'dsf','caa','sasa'}\n",
        "sey2={'dsf','caa','sasa','dasdsd'}\n",
        "sey2.difference(sey1)"
      ],
      "metadata": {
        "colab": {
          "base_uri": "https://localhost:8080/"
        },
        "id": "rZ60sxmtFppJ",
        "outputId": "4c212b9f-7be3-4f25-9144-ca17d6321272"
      },
      "id": "rZ60sxmtFppJ",
      "execution_count": null,
      "outputs": [
        {
          "output_type": "execute_result",
          "data": {
            "text/plain": [
              "{'dasdsd'}"
            ]
          },
          "metadata": {},
          "execution_count": 16
        }
      ]
    },
    {
      "cell_type": "code",
      "source": [
        "sey2.difference_update(sey1)"
      ],
      "metadata": {
        "id": "eH_y0ujXGAT9"
      },
      "id": "eH_y0ujXGAT9",
      "execution_count": null,
      "outputs": []
    },
    {
      "cell_type": "code",
      "source": [
        "print(sey2)"
      ],
      "metadata": {
        "colab": {
          "base_uri": "https://localhost:8080/"
        },
        "id": "43zH9mbsGdbV",
        "outputId": "87682e4c-8ac1-49e9-b636-1b5b6b5ddf39"
      },
      "id": "43zH9mbsGdbV",
      "execution_count": null,
      "outputs": [
        {
          "output_type": "stream",
          "name": "stdout",
          "text": [
            "{'dasdsd'}\n"
          ]
        }
      ]
    },
    {
      "cell_type": "code",
      "source": [
        "print(sey1)"
      ],
      "metadata": {
        "colab": {
          "base_uri": "https://localhost:8080/"
        },
        "id": "ps5hNSkbGjAC",
        "outputId": "280941f1-d7aa-4189-a23a-6b78729a73ac"
      },
      "id": "ps5hNSkbGjAC",
      "execution_count": null,
      "outputs": [
        {
          "output_type": "stream",
          "name": "stdout",
          "text": [
            "{'sasa', 'caa', 'dsf'}\n"
          ]
        }
      ]
    },
    {
      "cell_type": "code",
      "source": [
        "sey2.intersection(sey1)"
      ],
      "metadata": {
        "colab": {
          "base_uri": "https://localhost:8080/"
        },
        "id": "FrOnFix2GoD1",
        "outputId": "8818a9f1-7f82-4c9a-addf-380442963ee0"
      },
      "id": "FrOnFix2GoD1",
      "execution_count": null,
      "outputs": [
        {
          "output_type": "execute_result",
          "data": {
            "text/plain": [
              "set()"
            ]
          },
          "metadata": {},
          "execution_count": 21
        }
      ]
    },
    {
      "cell_type": "code",
      "source": [
        "din={}"
      ],
      "metadata": {
        "id": "7On7o5qnG1u0"
      },
      "id": "7On7o5qnG1u0",
      "execution_count": null,
      "outputs": []
    },
    {
      "cell_type": "code",
      "source": [
        "type(din)"
      ],
      "metadata": {
        "colab": {
          "base_uri": "https://localhost:8080/"
        },
        "id": "eclZUVupJf75",
        "outputId": "0808dcca-4dc0-4aad-a098-0bbf83dd765d"
      },
      "id": "eclZUVupJf75",
      "execution_count": null,
      "outputs": [
        {
          "output_type": "execute_result",
          "data": {
            "text/plain": [
              "dict"
            ]
          },
          "metadata": {},
          "execution_count": 23
        }
      ]
    },
    {
      "cell_type": "code",
      "source": [
        "din={'new':'python','hwlli':'iemsiddhant'}\n",
        "#in dict there is pair of value and key."
      ],
      "metadata": {
        "id": "8QOLj3gHJh_J"
      },
      "id": "8QOLj3gHJh_J",
      "execution_count": null,
      "outputs": []
    },
    {
      "cell_type": "code",
      "source": [
        "print(din)"
      ],
      "metadata": {
        "colab": {
          "base_uri": "https://localhost:8080/"
        },
        "id": "kxUbt1ACJyR1",
        "outputId": "c74f4138-6c5e-4f22-f4f8-a9fabc08f073"
      },
      "id": "kxUbt1ACJyR1",
      "execution_count": null,
      "outputs": [
        {
          "output_type": "stream",
          "name": "stdout",
          "text": [
            "{'new': 'python', 'hwlli': 'iemsiddhant'}\n"
          ]
        }
      ]
    },
    {
      "cell_type": "code",
      "source": [
        "din['new']"
      ],
      "metadata": {
        "colab": {
          "base_uri": "https://localhost:8080/",
          "height": 35
        },
        "id": "JUMjPiYNJ2UR",
        "outputId": "9295292a-4efe-469e-c4bc-bc217786072a"
      },
      "id": "JUMjPiYNJ2UR",
      "execution_count": null,
      "outputs": [
        {
          "output_type": "execute_result",
          "data": {
            "text/plain": [
              "'python'"
            ],
            "application/vnd.google.colaboratory.intrinsic+json": {
              "type": "string"
            }
          },
          "metadata": {},
          "execution_count": 29
        }
      ]
    },
    {
      "cell_type": "code",
      "source": [
        "for x in din:\n",
        "  print(x)"
      ],
      "metadata": {
        "colab": {
          "base_uri": "https://localhost:8080/"
        },
        "id": "McZjUM2CKKBQ",
        "outputId": "25d57c64-551c-4e36-eb96-d12cbf8bebaa"
      },
      "id": "McZjUM2CKKBQ",
      "execution_count": null,
      "outputs": [
        {
          "output_type": "stream",
          "name": "stdout",
          "text": [
            "new\n",
            "hwlli\n"
          ]
        }
      ]
    },
    {
      "cell_type": "code",
      "source": [
        "din['new']='fsdfs'"
      ],
      "metadata": {
        "id": "92lRRKKrKkLr"
      },
      "id": "92lRRKKrKkLr",
      "execution_count": null,
      "outputs": []
    },
    {
      "cell_type": "code",
      "source": [
        "print(din)"
      ],
      "metadata": {
        "colab": {
          "base_uri": "https://localhost:8080/"
        },
        "id": "QrOqy-avLQhU",
        "outputId": "2f2c5a4c-2227-4cd2-f199-6ac1d25caa7b"
      },
      "id": "QrOqy-avLQhU",
      "execution_count": null,
      "outputs": [
        {
          "output_type": "stream",
          "name": "stdout",
          "text": [
            "{'new': 'fsdfs', 'hwlli': 'iemsiddhant'}\n"
          ]
        }
      ]
    },
    {
      "cell_type": "code",
      "source": [
        "car1modwe={\"sfsdf\":77}\n",
        "car1modwe2={\"sfssdfcsddf\":7557}\n",
        "car1modwe2={\"sfsdgfhf\":77553}\n"
      ],
      "metadata": {
        "id": "yw57T45QLUfT"
      },
      "id": "yw57T45QLUfT",
      "execution_count": null,
      "outputs": []
    },
    {
      "cell_type": "code",
      "source": [
        "carfg={'ca':car1modwe,'ca2':car1modwe2}\n"
      ],
      "metadata": {
        "id": "CacLxjKfLkfL"
      },
      "id": "CacLxjKfLkfL",
      "execution_count": null,
      "outputs": []
    },
    {
      "cell_type": "code",
      "source": [
        "print(carfg)"
      ],
      "metadata": {
        "colab": {
          "base_uri": "https://localhost:8080/"
        },
        "id": "tZMIMYGLLyw1",
        "outputId": "54c06e43-9f28-4071-cb6d-ec3c992cf3f9"
      },
      "id": "tZMIMYGLLyw1",
      "execution_count": null,
      "outputs": [
        {
          "output_type": "stream",
          "name": "stdout",
          "text": [
            "{'ca': {'sfsdf': 77}, 'ca2': {'sfsdgfhf': 77553}}\n"
          ]
        }
      ]
    },
    {
      "cell_type": "code",
      "source": [],
      "metadata": {
        "id": "W9XNpfOBL1Hf"
      },
      "id": "W9XNpfOBL1Hf",
      "execution_count": null,
      "outputs": []
    },
    {
      "cell_type": "code",
      "source": [
        "from google.colab import drive\n",
        "drive.mount('/content/drive')"
      ],
      "metadata": {
        "id": "H-ge_O8yMfT7"
      },
      "id": "H-ge_O8yMfT7",
      "execution_count": null,
      "outputs": []
    }
  ],
  "metadata": {
    "colab": {
      "provenance": [],
      "collapsed_sections": [],
      "include_colab_link": true
    },
    "language_info": {
      "name": "python"
    },
    "kernelspec": {
      "name": "python3",
      "display_name": "Python 3"
    }
  },
  "nbformat": 4,
  "nbformat_minor": 5
}